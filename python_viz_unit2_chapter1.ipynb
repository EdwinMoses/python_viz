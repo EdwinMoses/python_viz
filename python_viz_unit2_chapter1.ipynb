{
 "cells": [
  {
   "cell_type": "markdown",
   "metadata": {},
   "source": [
    "## Introduction\n",
    "\n",
    "llkjkl"
   ]
  },
  {
   "cell_type": "markdown",
   "metadata": {},
   "source": [
    "## Learning outcomes\n",
    "\n",
    "In this chapter, we demonstrate how to create an interactive visualization for data stratified with respect to any categorical variable. For illustration, we use the Happy Planet Index dataset, which shows “where in the world people are using ecological resources most efficiently to live long, happy lives”. We visualize the ‘Average well being’ vs. ‘Happy Planet Index’ of different countries stratified (color-coded) by the continent which they belong to. Using both bokeh and altair, we then demonstrate the addition of the following interactive functionality in the visualization:\n",
    "- Zoom and Reset: Zooming on a specific section of the scatterplot, and resetting to the original view\n",
    "- Hover and Tooltip: Hovering over data points pops up an information box with selected variables of the corresponding country\n",
    "- Select and Highlight: Selecting a specific continent leads to highlighting of data points corresponding to countries in that continent"
   ]
  },
  {
   "cell_type": "markdown",
   "metadata": {},
   "source": [
    "## Zoom and Reset\n",
    "\n",
    "Intro to section"
   ]
  },
  {
   "cell_type": "code",
   "execution_count": 1,
   "metadata": {},
   "outputs": [],
   "source": [
    "# importing data"
   ]
  },
  {
   "cell_type": "markdown",
   "metadata": {},
   "source": [
    "text"
   ]
  },
  {
   "cell_type": "code",
   "execution_count": 2,
   "metadata": {},
   "outputs": [],
   "source": [
    "# zoom and reset with altair"
   ]
  },
  {
   "cell_type": "markdown",
   "metadata": {},
   "source": [
    "Text"
   ]
  },
  {
   "cell_type": "code",
   "execution_count": 3,
   "metadata": {},
   "outputs": [],
   "source": [
    "# zoom and reset with bokeh"
   ]
  },
  {
   "cell_type": "markdown",
   "metadata": {},
   "source": [
    "<div class=\"alert-info\">\n",
    "    <b>Tips/notes on zooming and resetting</b>: xyz\n",
    "</div>"
   ]
  },
  {
   "cell_type": "markdown",
   "metadata": {},
   "source": [
    "### Exercise\n",
    "Are step-by-step practical elements that employ the concept in action.\n",
    "Each exercise should have testable outcome and provide a final output, either a screenshot or a terminal output.\n",
    "Each step should be an instruction for the user to perform. A topic can have 1 or more exercises."
   ]
  },
  {
   "cell_type": "markdown",
   "metadata": {},
   "source": [
    "### Assessment Questions \n",
    "(12-18 MCQs)"
   ]
  },
  {
   "cell_type": "markdown",
   "metadata": {},
   "source": [
    "### Topic summary\n",
    "xyz"
   ]
  },
  {
   "cell_type": "markdown",
   "metadata": {},
   "source": [
    "## Hover and tooltip\n",
    "\n",
    "Intro to section"
   ]
  },
  {
   "cell_type": "code",
   "execution_count": 4,
   "metadata": {},
   "outputs": [],
   "source": [
    "# hover and tooltip in altair"
   ]
  },
  {
   "cell_type": "markdown",
   "metadata": {},
   "source": [
    "text"
   ]
  },
  {
   "cell_type": "code",
   "execution_count": 5,
   "metadata": {},
   "outputs": [],
   "source": [
    "# hover and tooltip in bokeh"
   ]
  },
  {
   "cell_type": "markdown",
   "metadata": {},
   "source": [
    "text"
   ]
  },
  {
   "cell_type": "markdown",
   "metadata": {},
   "source": [
    "<div class=\"alert-info\">\n",
    "    <b>Tips/notes on hovering and tooltipping</b>: xyz\n",
    "</div>"
   ]
  },
  {
   "cell_type": "markdown",
   "metadata": {},
   "source": [
    "### Exercise\n",
    "Are step-by-step practical elements that employ the concept in action.\n",
    "Each exercise should have testable outcome and provide a final output, either a screenshot or a terminal output.\n",
    "Each step should be an instruction for the user to perform.\n",
    "A topic can have 1 or more exercises."
   ]
  },
  {
   "cell_type": "markdown",
   "metadata": {},
   "source": [
    "### Assessment questions\n",
    "Assessment Questions (12-18 MCQs)"
   ]
  },
  {
   "cell_type": "markdown",
   "metadata": {},
   "source": [
    "### Topic summary\n",
    "xyz"
   ]
  },
  {
   "cell_type": "markdown",
   "metadata": {},
   "source": [
    "## Select and highlight\n",
    "\n",
    "Intro to section"
   ]
  },
  {
   "cell_type": "code",
   "execution_count": 6,
   "metadata": {},
   "outputs": [],
   "source": [
    "# select and hightlight with altair"
   ]
  },
  {
   "cell_type": "markdown",
   "metadata": {},
   "source": [
    "text"
   ]
  },
  {
   "cell_type": "code",
   "execution_count": 7,
   "metadata": {},
   "outputs": [],
   "source": [
    "# select and hightlight with bokeh"
   ]
  },
  {
   "cell_type": "markdown",
   "metadata": {},
   "source": [
    "text"
   ]
  },
  {
   "cell_type": "markdown",
   "metadata": {},
   "source": [
    "<div class=\"alert-info\">\n",
    "    <b>Tips/notes on selecting and highlighting</b>: xyz\n",
    "</div>"
   ]
  },
  {
   "cell_type": "markdown",
   "metadata": {},
   "source": [
    "### Exercise\n",
    "Are step-by-step practical elements that employ the concept in action.\n",
    "Each exercise should have testable outcome and provide a final output, either a screenshot or a terminal output.\n",
    "Each step should be an instruction for the user to perform.\n",
    "A topic can have 1 or more exercises."
   ]
  },
  {
   "cell_type": "markdown",
   "metadata": {},
   "source": [
    "### Assessment questions\n",
    "Assessment Questions (12-18 MCQs)"
   ]
  },
  {
   "cell_type": "markdown",
   "metadata": {},
   "source": [
    "### Topic summary\n",
    "xyz"
   ]
  },
  {
   "cell_type": "markdown",
   "metadata": {},
   "source": [
    "## Chapter-level Activity\n",
    "\n",
    "We will be working with the Google Play Store Apps dataset on Kaggle. Your task is to create a scatterplot of  log(Installs) vs Rating of all the apps stratified by Content Rating (Everyone/Teen/etc.) The user should be able to interact with the plot by (1) hovering over the scatter plot to see additional information (App, Category, Genre) regarding each data point and; (2) selecting any of the Content Rating types, and the corresponding data points on the scatterplot should become highlighted."
   ]
  },
  {
   "cell_type": "markdown",
   "metadata": {},
   "source": [
    "## Chapter-level Summary\n",
    "\n",
    "Chapter-level Quiz (36+ MCQs)"
   ]
  },
  {
   "cell_type": "code",
   "execution_count": null,
   "metadata": {},
   "outputs": [],
   "source": []
  }
 ],
 "metadata": {
  "kernelspec": {
   "display_name": "Python 3",
   "language": "python",
   "name": "python3"
  },
  "language_info": {
   "codemirror_mode": {
    "name": "ipython",
    "version": 3
   },
   "file_extension": ".py",
   "mimetype": "text/x-python",
   "name": "python",
   "nbconvert_exporter": "python",
   "pygments_lexer": "ipython3",
   "version": "3.7.3"
  }
 },
 "nbformat": 4,
 "nbformat_minor": 2
}
